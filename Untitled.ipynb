{
 "cells": [
  {
   "cell_type": "markdown",
   "id": "69eb5824-4598-49e3-b8c3-2eacc991dc78",
   "metadata": {},
   "source": [
    "# Jupyter First notebook"
   ]
  },
  {
   "cell_type": "code",
   "execution_count": 1,
   "id": "6ae1c7e7-77e4-4eed-ba7e-36c0d98f5df2",
   "metadata": {},
   "outputs": [
    {
     "name": "stdout",
     "output_type": "stream",
     "text": [
      "welcome to jupyter notebook\n"
     ]
    }
   ],
   "source": [
    "print('welcome to jupyter notebook')"
   ]
  },
  {
   "cell_type": "code",
   "execution_count": 2,
   "id": "cfab46ee-69ed-4ffe-a1dc-9175fd027306",
   "metadata": {},
   "outputs": [
    {
     "name": "stdout",
     "output_type": "stream",
     "text": [
      "12\n",
      "13\n",
      "45\n",
      "56\n"
     ]
    }
   ],
   "source": [
    "numbers=(12,13,45,56)\n",
    "for num in numbers:\n",
    "    print(num)"
   ]
  },
  {
   "cell_type": "code",
   "execution_count": null,
   "id": "a3652fc1-4c4a-41b2-ac79-71cfe1fc99ab",
   "metadata": {},
   "outputs": [],
   "source": [
    "num1=24"
   ]
  },
  {
   "cell_type": "code",
   "execution_count": null,
   "id": "e79034d1-acaa-42ae-b3bc-2fc2b0251579",
   "metadata": {},
   "outputs": [],
   "source": [
    "num1=25"
   ]
  },
  {
   "cell_type": "markdown",
   "id": "ec41418c-8a52-4ff5-af67-7c87969413ec",
   "metadata": {},
   "source": [
    "# end of notebook"
   ]
  },
  {
   "cell_type": "code",
   "execution_count": null,
   "id": "7b5f8336-1f1d-4b5f-a727-636af316e105",
   "metadata": {},
   "outputs": [],
   "source": []
  }
 ],
 "metadata": {
  "kernelspec": {
   "display_name": "Python 3 (ipykernel)",
   "language": "python",
   "name": "python3"
  },
  "language_info": {
   "codemirror_mode": {
    "name": "ipython",
    "version": 3
   },
   "file_extension": ".py",
   "mimetype": "text/x-python",
   "name": "python",
   "nbconvert_exporter": "python",
   "pygments_lexer": "ipython3",
   "version": "3.13.5"
  }
 },
 "nbformat": 4,
 "nbformat_minor": 5
}
